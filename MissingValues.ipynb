{
 "cells": [
  {
   "cell_type": "code",
   "execution_count": 11,
   "id": "e440a43f-e1e0-4375-9fd0-641a6dbd9049",
   "metadata": {},
   "outputs": [],
   "source": [
    "import numpy as np\n",
    "import pandas as pd\n",
    "import matplotlib.pyplot as plt\n",
    "from scipy import stats\n"
   ]
  },
  {
   "cell_type": "code",
   "execution_count": 34,
   "id": "b38b8fac-c733-43a1-acd8-06217b913db7",
   "metadata": {},
   "outputs": [
    {
     "name": "stdout",
     "output_type": "stream",
     "text": [
      "Original data\n",
      "       Name   Age   Salary\n",
      "0   Abhinav  25.0  50000.0\n",
      "1    Shital  30.0  60000.0\n",
      "2     vikas   NaN  60000.0\n",
      "3     Sahil  22.0  45000.0\n",
      "4    Sakshi  30.0   6000.0\n",
      "5  Prajakta   NaN  30000.0\n",
      "6   Sandhya  23.0      NaN\n",
      "7   Pradnya  35.0  37000.0\n"
     ]
    }
   ],
   "source": [
    "df = pd.DataFrame({\n",
    "    'Name' : ['Abhinav','Shital','vikas','Sahil','Sakshi','Prajakta','Sandhya','Pradnya'],\n",
    "    'Age': [25, 30, None, 22,30,None,23,35],\n",
    "    'Salary': [50000, 60000, 60000, 45000,6000,30000,None,37000]\n",
    "})\n",
    "\n",
    "print('Original data')\n",
    "print(df)"
   ]
  },
  {
   "cell_type": "code",
   "execution_count": 35,
   "id": "af59b34c-cdc6-4dbc-bd80-886b59dd95f5",
   "metadata": {},
   "outputs": [
    {
     "name": "stdout",
     "output_type": "stream",
     "text": [
      "Data after Cleaning\n",
      "      Name   Age   Salary\n",
      "0  Abhinav  25.0  50000.0\n",
      "1   Shital  30.0  60000.0\n",
      "3    Sahil  22.0  45000.0\n",
      "4   Sakshi  30.0   6000.0\n",
      "7  Pradnya  35.0  37000.0\n"
     ]
    }
   ],
   "source": [
    "df_cleaned = df.dropna(axis=0)\n",
    "print('Data after Cleaning')\n",
    "print(df_cleaned)"
   ]
  },
  {
   "cell_type": "code",
   "execution_count": 5,
   "id": "3f4dc530-f79f-4097-a42e-19e0c42e4bd0",
   "metadata": {},
   "outputs": [
    {
     "name": "stdout",
     "output_type": "stream",
     "text": [
      "Empty DataFrame\n",
      "Columns: []\n",
      "Index: [0, 1, 2, 3]\n"
     ]
    }
   ],
   "source": [
    "df_cleaned = df.dropna(axis=1)\n",
    "print(df_cleaned)"
   ]
  },
  {
   "cell_type": "code",
   "execution_count": 29,
   "id": "7e44e7f0-8326-4683-b638-3f29be126370",
   "metadata": {},
   "outputs": [
    {
     "name": "stdout",
     "output_type": "stream",
     "text": [
      "Outliers detected:\n",
      " Empty DataFrame\n",
      "Columns: [value, z_score]\n",
      "Index: []\n",
      "Data without outliers:\n",
      "    value   z_score\n",
      "0     10  0.421045\n",
      "1     12  0.348866\n",
      "2     12  0.348866\n",
      "3     13  0.312777\n",
      "4     12  0.348866\n",
      "5    100  2.827020\n",
      "6     12  0.348866\n",
      "7     11  0.384956\n",
      "8     13  0.312777\n"
     ]
    }
   ],
   "source": [
    "df = pd.DataFrame({'value': [10, 12, 12, 13, 12, 100, 12, 11, 13]})\n",
    "\n",
    "\n",
    "df['z_score'] = np.abs(stats.zscore(df['value']))\n",
    "\n",
    "\n",
    "outliers = df[df['z_score'] > 3]\n",
    "print(\"Outliers detected:\\n\", outliers)\n",
    "\n",
    "# And get cleaned data without outliers\n",
    "df_cleaned = df[df['z_score'] <= 3]\n",
    "print(\"Data without outliers:\\n\", df_cleaned)"
   ]
  },
  {
   "cell_type": "code",
   "execution_count": 16,
   "id": "ef899300-ed98-49b9-af62-a6b725ed55d3",
   "metadata": {},
   "outputs": [],
   "source": [
    "\n",
    "\n"
   ]
  },
  {
   "cell_type": "code",
   "execution_count": 19,
   "id": "af8913f1-771d-4a0b-a98b-0ee798952c5a",
   "metadata": {},
   "outputs": [],
   "source": []
  },
  {
   "cell_type": "code",
   "execution_count": null,
   "id": "f4c345da-8ce6-4f42-90c0-731928c37f8a",
   "metadata": {},
   "outputs": [],
   "source": []
  }
 ],
 "metadata": {
  "kernelspec": {
   "display_name": "Python [conda env:base] *",
   "language": "python",
   "name": "conda-base-py"
  },
  "language_info": {
   "codemirror_mode": {
    "name": "ipython",
    "version": 3
   },
   "file_extension": ".py",
   "mimetype": "text/x-python",
   "name": "python",
   "nbconvert_exporter": "python",
   "pygments_lexer": "ipython3",
   "version": "3.13.5"
  }
 },
 "nbformat": 4,
 "nbformat_minor": 5
}
